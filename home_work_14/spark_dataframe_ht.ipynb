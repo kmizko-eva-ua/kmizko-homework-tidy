{
 "cells": [
  {
   "cell_type": "code",
   "metadata": {
    "ExecuteTime": {
     "end_time": "2024-11-22T19:36:07.915026Z",
     "start_time": "2024-11-22T19:36:07.910307Z"
    }
   },
   "source": [
    "from operator import concat\n",
    "\n",
    "from pyspark.sql import SparkSession, functions as F, types as T"
   ],
   "outputs": [],
   "execution_count": 7
  },
  {
   "cell_type": "code",
   "metadata": {
    "collapsed": false,
    "jupyter": {
     "outputs_hidden": false
    },
    "pycharm": {
     "is_executing": true
    },
    "ExecuteTime": {
     "end_time": "2024-11-22T19:36:07.992166Z",
     "start_time": "2024-11-22T19:36:07.941595Z"
    }
   },
   "source": "spark = SparkSession.builder.master('local[*]').getOrCreate()",
   "outputs": [],
   "execution_count": 8
  },
  {
   "cell_type": "code",
   "metadata": {
    "collapsed": false,
    "jupyter": {
     "outputs_hidden": false
    },
    "ExecuteTime": {
     "end_time": "2024-11-22T19:36:08.013131Z",
     "start_time": "2024-11-22T19:36:08.010028Z"
    }
   },
   "source": [
    "print(spark.version)"
   ],
   "outputs": [
    {
     "name": "stdout",
     "output_type": "stream",
     "text": [
      "3.4.1\n"
     ]
    }
   ],
   "execution_count": 9
  },
  {
   "metadata": {
    "ExecuteTime": {
     "end_time": "2024-11-22T19:36:13.287356Z",
     "start_time": "2024-11-22T19:36:08.044343Z"
    }
   },
   "cell_type": "code",
   "source": [
    "actor_df = spark.read.csv('./data/actor.csv', header=True, inferSchema=True)\n",
    "address_df = spark.read.csv('./data/address.csv', header=True, inferSchema=True)\n",
    "category_df = spark.read.csv('./data/category.csv', header=True, inferSchema=True)\n",
    "city_df = spark.read.csv('./data/city.csv', header=True, inferSchema=True)\n",
    "country_df = spark.read.csv('./data/country.csv', header=True, inferSchema=True)\n",
    "customer_df = spark.read.csv('./data/customer.csv', header=True, inferSchema=True)\n",
    "film_df = spark.read.csv('./data/film.csv', header=True, inferSchema=True)\n",
    "film_actor_df = spark.read.csv('./data/film_actor.csv', header=True, inferSchema=True)\n",
    "film_category_df = spark.read.csv('./data/film_category.csv', header=True, inferSchema=True)\n",
    "inventory_df = spark.read.csv('./data/inventory.csv', header=True, inferSchema=True)\n",
    "language_df = spark.read.csv('./data/language.csv', header=True, inferSchema=True)\n",
    "payment_df = spark.read.csv('./data/payment.csv', header=True, inferSchema=True)\n",
    "rental_df = spark.read.csv('./data/rental.csv', header=True, inferSchema=True)\n",
    "staff_df = spark.read.csv('./data/staff.csv', header=True, inferSchema=True)\n",
    "store_df = spark.read.csv('./data/store.csv', header=True, inferSchema=True)"
   ],
   "outputs": [],
   "execution_count": 10
  },
  {
   "metadata": {
    "ExecuteTime": {
     "end_time": "2024-11-22T19:36:13.350882Z",
     "start_time": "2024-11-22T19:36:13.347289Z"
    }
   },
   "cell_type": "code",
   "source": [
    "# Домашнє завдання на тему Spark SQL\n",
    "\n",
    "# Задачі з домашнього завдання на SQL потрібно розвʼязати за допомогою Spark SQL DataFrame API.\n",
    "# \n",
    "# - Дампи таблиць знаходяться в папці `data`. Датафрейми таблиць вже створені в клітинці вище.\n",
    "# - Можете створювати стільки нових клітинок, скільки вам необхідно.\n",
    "# - Розвʼязок кожної задачі має бути відображений в самому файлі (використати метод `.show()`)\n",
    "# - код має бути оформлений у відповідності із одним із стилем, показаним лектором на занятті 13.\n",
    "# \n",
    "# **Увага!**\n",
    "# Використовувати мову запитів SQL безпосередньо забороняється, потрібно використовувати виключно DataFrame API!\n"
   ],
   "outputs": [],
   "execution_count": 11
  },
  {
   "cell_type": "markdown",
   "metadata": {
    "collapsed": false,
    "jupyter": {
     "outputs_hidden": false
    }
   },
   "source": [
    "1.\n",
    "Вивести кількість фільмів в кожній категорії.\n",
    "Результат відсортувати за спаданням."
   ]
  },
  {
   "cell_type": "code",
   "metadata": {
    "ExecuteTime": {
     "end_time": "2024-11-22T19:36:15.737869Z",
     "start_time": "2024-11-22T19:36:13.369403Z"
    }
   },
   "source": [
    "#кількість фільмів в кожній категорії\n",
    "count_of_films_df = film_category_df.groupBy(\"category_id\").agg(F.count(\"film_id\").alias(\"films_count\"))\n",
    "\n",
    "#результат\n",
    "count_of_films_df.join(category_df, on=\"category_id\", how=\"left\").select(\"name\", \"films_count\").orderBy(\"films_count\", ascending=False).show()"
   ],
   "outputs": [
    {
     "name": "stdout",
     "output_type": "stream",
     "text": [
      "+-----------+-----------+\n",
      "|       name|films_count|\n",
      "+-----------+-----------+\n",
      "|     Sports|         74|\n",
      "|    Foreign|         73|\n",
      "|     Family|         69|\n",
      "|Documentary|         68|\n",
      "|  Animation|         66|\n",
      "|     Action|         64|\n",
      "|        New|         63|\n",
      "|      Drama|         62|\n",
      "|      Games|         61|\n",
      "|     Sci-Fi|         61|\n",
      "|   Children|         60|\n",
      "|     Comedy|         58|\n",
      "|     Travel|         57|\n",
      "|   Classics|         57|\n",
      "|     Horror|         56|\n",
      "|      Music|         51|\n",
      "+-----------+-----------+\n",
      "\n"
     ]
    }
   ],
   "execution_count": 12
  },
  {
   "cell_type": "markdown",
   "metadata": {
    "collapsed": false,
    "jupyter": {
     "outputs_hidden": false
    }
   },
   "source": [
    "2.\n",
    "Вивести 10 акторів, чиї фільми брали на прокат найбільше.\n",
    "Результат відсортувати за спаданням."
   ]
  },
  {
   "cell_type": "code",
   "metadata": {
    "collapsed": false,
    "jupyter": {
     "outputs_hidden": false
    },
    "ExecuteTime": {
     "end_time": "2024-11-22T19:36:19.069854Z",
     "start_time": "2024-11-22T19:36:15.755590Z"
    }
   },
   "source": [
    "#кількість оренд по кожній копії\n",
    "rent_count_df = rental_df.groupBy(\"inventory_id\").count()\n",
    "\n",
    "#кількіст оренд по кожному фільму \n",
    "film_rent_stat_df = inventory_df.join(rent_count_df, on=\"inventory_id\", how=\"left\").groupBy(\"film_id\").agg( F.sum(\"count\").alias(\"rent_count\"))\n",
    "\n",
    "#топ 10 акторів по кількості аренд всіх фільмів де вони знімались. від більшого до меншого\n",
    "top_ten_actor_id_df = film_rent_stat_df.join(film_actor_df, on=\"film_id\", how=\"left\").groupBy(\"actor_id\").agg(F.sum(\"rent_count\").alias(\"rent_count_films_by_actors\")).orderBy(\"rent_count_films_by_actors\", ascending=False).limit(10)\n",
    "\n",
    "#результат\n",
    "top_ten_actor_id_df.join(actor_df, on=\"actor_id\", how=\"left\").withColumn(\"actor_name\", F.concat_ws(\" \", \"first_name\", \"last_name\")).select(\"actor_name\").show()\n"
   ],
   "outputs": [
    {
     "name": "stdout",
     "output_type": "stream",
     "text": [
      "+------------------+\n",
      "|        actor_name|\n",
      "+------------------+\n",
      "|    GINA DEGENERES|\n",
      "|    MATTHEW CARREY|\n",
      "|       MARY KEITEL|\n",
      "|ANGELA WITHERSPOON|\n",
      "|       WALTER TORN|\n",
      "|       HENRY BERRY|\n",
      "|       JAYNE NOLTE|\n",
      "|        VAL BOLGER|\n",
      "|     SANDRA KILMER|\n",
      "|      SEAN GUINESS|\n",
      "+------------------+\n",
      "\n"
     ]
    }
   ],
   "execution_count": 13
  },
  {
   "cell_type": "markdown",
   "metadata": {
    "collapsed": false,
    "jupyter": {
     "outputs_hidden": false
    }
   },
   "source": [
    "3.\n",
    "Вивести категорія фільмів, на яку було витрачено найбільше грошей\n",
    "в прокаті"
   ]
  },
  {
   "cell_type": "code",
   "metadata": {
    "collapsed": false,
    "jupyter": {
     "outputs_hidden": false
    },
    "ExecuteTime": {
     "end_time": "2024-11-22T19:36:21.297935Z",
     "start_time": "2024-11-22T19:36:19.099047Z"
    }
   },
   "source": [
    "\n",
    "rental_df.join(payment_df, on=\"rental_id\", how=\"inner\") \\\n",
    "         .join(inventory_df, on=\"inventory_id\", how=\"inner\") \\\n",
    "         .join(film_category_df, on=\"film_id\", how=\"inner\") \\\n",
    "                .groupBy(\"category_id\").agg(F.sum(\"amount\").alias(\"s_amount\")) \\\n",
    "         .join(category_df, on=\"category_id\", how=\"inner\") \\\n",
    "                .orderBy(\"s_amount\", ascending=False) \\\n",
    "                .limit(1).select(\"name\") \\\n",
    "         .show()\n"
   ],
   "outputs": [
    {
     "name": "stdout",
     "output_type": "stream",
     "text": [
      "+------+\n",
      "|  name|\n",
      "+------+\n",
      "|Sports|\n",
      "+------+\n",
      "\n"
     ]
    }
   ],
   "execution_count": 14
  },
  {
   "metadata": {
    "collapsed": false,
    "jupyter": {
     "outputs_hidden": false
    }
   },
   "cell_type": "markdown",
   "source": [
    "4.\n",
    "Вивести назви фільмів, яких не має в inventory."
   ]
  },
  {
   "metadata": {
    "collapsed": false,
    "jupyter": {
     "outputs_hidden": false
    },
    "ExecuteTime": {
     "end_time": "2024-11-22T19:36:22.048549Z",
     "start_time": "2024-11-22T19:36:21.320766Z"
    }
   },
   "cell_type": "code",
   "source": [
    "film_df.join(inventory_df, on=\"film_id\", how=\"left\")\\\n",
    "       .filter(inventory_df[\"film_id\"].isNull())\\\n",
    "       .select(\"title\")\\\n",
    "       .show()\n"
   ],
   "outputs": [
    {
     "name": "stdout",
     "output_type": "stream",
     "text": [
      "+--------------------+\n",
      "|               title|\n",
      "+--------------------+\n",
      "|      ALICE FANTASIA|\n",
      "|         APOLLO TEEN|\n",
      "|      ARGONAUTS TOWN|\n",
      "|       ARK RIDGEMONT|\n",
      "|ARSENIC INDEPENDENCE|\n",
      "|   BOONDOCK BALLROOM|\n",
      "|       BUTCH PANTHER|\n",
      "|       CATCH AMISTAD|\n",
      "| CHINATOWN GLADIATOR|\n",
      "|      CHOCOLATE DUCK|\n",
      "|COMMANDMENTS EXPRESS|\n",
      "|    CROSSING DIVORCE|\n",
      "|     CROWDS TELEMARK|\n",
      "|    CRYSTAL BREAKING|\n",
      "|          DAZED PUNK|\n",
      "|DELIVERANCE MULHO...|\n",
      "|   FIREHOUSE VIETNAM|\n",
      "|       FLOATS GARDEN|\n",
      "|FRANKENSTEIN STRA...|\n",
      "|  GLADIATOR WESTWARD|\n",
      "+--------------------+\n",
      "only showing top 20 rows\n",
      "\n"
     ]
    }
   ],
   "execution_count": 15
  },
  {
   "cell_type": "markdown",
   "metadata": {
    "collapsed": false,
    "jupyter": {
     "outputs_hidden": false
    }
   },
   "source": [
    "5.\n",
    "Вивести топ 3 актори, які найбільше зʼявлялись в категорії фільмів “Children”"
   ]
  },
  {
   "cell_type": "code",
   "metadata": {
    "collapsed": false,
    "jupyter": {
     "outputs_hidden": false
    },
    "pycharm": {
     "is_executing": true
    },
    "ExecuteTime": {
     "end_time": "2024-11-22T19:36:24.667685Z",
     "start_time": "2024-11-22T19:36:22.072143Z"
    }
   },
   "source": [
    "id_category_children = category_df.filter(F.col(\"name\") == \"Children\").first()[\"category_id\"]\n",
    "\n",
    "all_films_id_category_children_df = film_category_df.filter( F.col(\"category_id\") == id_category_children )\\\n",
    "                                                    .join(film_actor_df, on=\"film_id\", how=\"inner\")\\\n",
    "                                                    .groupBy(\"actor_id\").agg(F.count(\"film_id\").alias(\"count_films\"))\\\n",
    "                                                    .orderBy(\"count_films\", ascending=False).limit(3)\\\n",
    "                                                    .join(actor_df, on=\"actor_id\", how=\"inner\")\\\n",
    "                                                    .select(F.concat_ws(' ', \"first_name\", \"last_name\")).show()"
   ],
   "outputs": [
    {
     "name": "stdout",
     "output_type": "stream",
     "text": [
      "+-----------------------------------+\n",
      "|concat_ws( , first_name, last_name)|\n",
      "+-----------------------------------+\n",
      "|                       HELEN VOIGHT|\n",
      "|                         RALPH CRUZ|\n",
      "|                        WHOOPI HURT|\n",
      "+-----------------------------------+\n",
      "\n"
     ]
    }
   ],
   "execution_count": 16
  },
  {
   "cell_type": "markdown",
   "metadata": {
    "collapsed": false,
    "jupyter": {
     "outputs_hidden": false
    }
   },
   "source": [
    "Stop Spark session:"
   ]
  },
  {
   "cell_type": "code",
   "metadata": {
    "collapsed": false,
    "jupyter": {
     "outputs_hidden": false
    },
    "ExecuteTime": {
     "end_time": "2024-11-22T19:36:25.105997Z",
     "start_time": "2024-11-22T19:36:24.685171Z"
    }
   },
   "source": [
    "spark.stop()"
   ],
   "outputs": [],
   "execution_count": 17
  }
 ],
 "metadata": {
  "kernelspec": {
   "display_name": "Python 3 (ipykernel)",
   "language": "python",
   "name": "python3"
  },
  "language_info": {
   "codemirror_mode": {
    "name": "ipython",
    "version": 3
   },
   "file_extension": ".py",
   "mimetype": "text/x-python",
   "name": "python",
   "nbconvert_exporter": "python",
   "pygments_lexer": "ipython3",
   "version": "3.9.6"
  }
 },
 "nbformat": 4,
 "nbformat_minor": 4
}
